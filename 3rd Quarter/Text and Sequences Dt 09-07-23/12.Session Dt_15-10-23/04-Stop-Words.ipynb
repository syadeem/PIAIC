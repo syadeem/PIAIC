{
 "cells": [
  {
   "cell_type": "markdown",
   "metadata": {},
   "source": [
    "# Stop Words\n",
    "Words like \"a\" and \"the\" appear so frequently that they don't require tagging as thoroughly as nouns, verbs and modifiers. We call these *stop words*, and they can be filtered from the text to be processed. spaCy holds a built-in list of some 305 English stop words."
   ]
  },
  {
   "cell_type": "code",
   "execution_count": 1,
   "metadata": {},
   "outputs": [],
   "source": [
    "# Perform standard imports:\n",
    "import spacy\n",
    "nlp = spacy.load('en_core_web_sm')"
   ]
  },
  {
   "cell_type": "code",
   "execution_count": 3,
   "metadata": {},
   "outputs": [
    {
     "name": "stdout",
     "output_type": "stream",
     "text": [
      "{'everything', 'nevertheless', 'again', 'onto', 'then', 'me', '‘ll', 'against', 'give', 'such', 'same', 'seem', 'go', 'further', 'where', 'thence', 'part', 'sixty', \"'ll\", 'still', 'had', 'never', 'amongst', '‘re', 'get', '’s', 'sometimes', 'bottom', 'she', '‘m', 'n’t', 'too', 'since', 'whence', 'be', 'serious', 'but', 'indeed', 'to', 'without', 'himself', 'can', 'least', 'any', 'put', 'about', 'am', '’d', 'noone', 'were', 'alone', 'another', 'beside', 'could', 'those', 'behind', 'if', 'from', 'someone', 'its', 'no', 'here', 'although', 'when', 'third', 'do', 'before', 'is', 'perhaps', 'for', 'own', 'via', 're', 'other', 'their', 'not', 'always', 'because', 'some', 'fifteen', 'done', 'whither', \"'m\", 'off', 'yourselves', 'so', 'did', 'either', 'down', 'may', 'already', 'seeming', 'three', 'a', 'beyond', 'at', 'these', 'the', 'he', 'only', 'how', 'also', 'them', 'out', 'all', 'and', 'whom', 'namely', 'after', 'together', 'cannot', 'moreover', 'whole', 'none', 'ours', 'with', 'thru', 'afterwards', '‘s', 'keep', 'an', 'call', 'during', 'anyway', 'nor', 'you', 'used', '’ve', 'just', 'wherein', 'move', 'full', 'whereby', 'per', 'among', 'within', 'forty', 'really', 'often', 'are', 'whenever', 'five', 'must', 'few', 'nothing', 'less', 'eleven', 'herein', 'us', 'thereafter', 'rather', 'we', 'under', 'once', 'became', 'somewhere', 'thus', 'somehow', 'twenty', 'whereafter', 'eight', 'doing', 'unless', 'using', 'see', 'make', 'hence', 'back', 'above', 'formerly', 'nine', 'of', 'throughout', 'every', 'two', 'below', 'while', 'n‘t', 'as', 'first', 'upon', 'becoming', 'would', 'ten', 'more', 'becomes', 'whereas', \"'re\", 'along', 'my', 'anyhow', 'hereby', 'six', 'almost', 'therefore', 'whose', 'might', 'next', 'or', 'themselves', 'sometime', 'very', 'even', 'well', 'beforehand', 'ourselves', 'both', 'anywhere', 'whatever', 'empty', 'should', 'amount', 'in', 'however', 'each', 'others', 'top', 'was', 'one', 'hers', 'whereupon', 'seemed', 'now', 'much', 'made', 'her', 'up', 'take', 'into', 'it', 'regarding', 'front', 'who', 'nowhere', 'four', 'mostly', 'across', 'wherever', 'mine', 'various', 'most', 'your', 'than', 'i', 'there', 'say', 'on', 'latterly', 'ca', 'else', 'last', 'enough', 'why', '’m', 'towards', 'thereupon', 'which', \"n't\", 'quite', 'everywhere', 'does', '‘ve', 'that', 'yours', 'between', 'ever', 'name', 'hereafter', 'being', 'except', 'been', 'by', 'become', '’ll', \"'d\", 'myself', 'side', 'meanwhile', 'toward', 'neither', 'whoever', 'around', 'though', 'yet', \"'s\", 'herself', 'therein', 'hereupon', 'over', 'whether', 'anything', 'they', 'have', '‘d', 'his', 'show', 'something', 'our', 'due', 'yourself', 'hundred', 'besides', 'him', 'thereby', 'everyone', 'many', 'fifty', 'anyone', 'twelve', 'seems', 'until', 'former', 'latter', 'itself', 'please', \"'ve\", 'several', 'has', 'nobody', '’re', 'otherwise', 'what', 'elsewhere', 'will', 'this', 'through'}\n"
     ]
    }
   ],
   "source": [
    "print(nlp.Defaults.stop_words)\n"
   ]
  },
  {
   "cell_type": "code",
   "execution_count": 4,
   "metadata": {},
   "outputs": [
    {
     "data": {
      "text/plain": [
       "326"
      ]
     },
     "execution_count": 4,
     "metadata": {},
     "output_type": "execute_result"
    }
   ],
   "source": [
    "len(nlp.Defaults.stop_words)"
   ]
  },
  {
   "cell_type": "markdown",
   "metadata": {},
   "source": [
    "## To see if a word is a stop word"
   ]
  },
  {
   "cell_type": "code",
   "execution_count": 5,
   "metadata": {},
   "outputs": [
    {
     "data": {
      "text/plain": [
       "True"
      ]
     },
     "execution_count": 5,
     "metadata": {},
     "output_type": "execute_result"
    }
   ],
   "source": [
    "nlp.vocab['myself'].is_stop"
   ]
  },
  {
   "cell_type": "code",
   "execution_count": 6,
   "metadata": {},
   "outputs": [
    {
     "data": {
      "text/plain": [
       "False"
      ]
     },
     "execution_count": 6,
     "metadata": {},
     "output_type": "execute_result"
    }
   ],
   "source": [
    "nlp.vocab['mystery'].is_stop"
   ]
  },
  {
   "cell_type": "markdown",
   "metadata": {},
   "source": [
    "## To add a stop word\n",
    "There may be times when you wish to add a stop word to the default set. Perhaps you decide that `'btw'` (common shorthand for \"by the way\") should be considered a stop word."
   ]
  },
  {
   "cell_type": "code",
   "execution_count": 7,
   "metadata": {},
   "outputs": [],
   "source": [
    "# Add the word to the set of stop words. Use lowercase!\n",
    "nlp.Defaults.stop_words.add('btw')\n",
    "\n",
    "# Set the stop_word tag on the lexeme\n",
    "nlp.vocab['btw'].is_stop = True"
   ]
  },
  {
   "cell_type": "code",
   "execution_count": 8,
   "metadata": {},
   "outputs": [
    {
     "data": {
      "text/plain": [
       "327"
      ]
     },
     "execution_count": 8,
     "metadata": {},
     "output_type": "execute_result"
    }
   ],
   "source": [
    "len(nlp.Defaults.stop_words)"
   ]
  },
  {
   "cell_type": "code",
   "execution_count": 9,
   "metadata": {},
   "outputs": [
    {
     "data": {
      "text/plain": [
       "True"
      ]
     },
     "execution_count": 9,
     "metadata": {},
     "output_type": "execute_result"
    }
   ],
   "source": [
    "nlp.vocab['btw'].is_stop"
   ]
  },
  {
   "cell_type": "markdown",
   "metadata": {},
   "source": [
    "<font color=green>When adding stop words, always use lowercase. Lexemes are converted to lowercase before being added to **vocab**.</font>"
   ]
  },
  {
   "cell_type": "markdown",
   "metadata": {},
   "source": [
    "## To remove a stop word\n",
    "Alternatively, you may decide that `'beyond'` should not be considered a stop word."
   ]
  },
  {
   "cell_type": "code",
   "execution_count": 10,
   "metadata": {},
   "outputs": [],
   "source": [
    "# Remove the word from the set of stop words\n",
    "nlp.Defaults.stop_words.remove('beyond')\n",
    "\n",
    "# Remove the stop_word tag from the lexeme\n",
    "nlp.vocab['beyond'].is_stop = False"
   ]
  },
  {
   "cell_type": "code",
   "execution_count": 11,
   "metadata": {},
   "outputs": [
    {
     "data": {
      "text/plain": [
       "326"
      ]
     },
     "execution_count": 11,
     "metadata": {},
     "output_type": "execute_result"
    }
   ],
   "source": [
    "len(nlp.Defaults.stop_words)"
   ]
  },
  {
   "cell_type": "code",
   "execution_count": 12,
   "metadata": {},
   "outputs": [
    {
     "data": {
      "text/plain": [
       "False"
      ]
     },
     "execution_count": 12,
     "metadata": {},
     "output_type": "execute_result"
    }
   ],
   "source": [
    "nlp.vocab['beyond'].is_stop"
   ]
  },
  {
   "cell_type": "markdown",
   "metadata": {},
   "source": [
    "Great! Now you should be able to access spaCy's default set of stop words, and add or remove stop words as needed.\n",
    "## Next up: Vocabulary and Matching"
   ]
  },
  {
   "cell_type": "code",
   "execution_count": null,
   "metadata": {},
   "outputs": [],
   "source": []
  }
 ],
 "metadata": {
  "kernelspec": {
   "display_name": "Python 3 (ipykernel)",
   "language": "python",
   "name": "python3"
  },
  "language_info": {
   "codemirror_mode": {
    "name": "ipython",
    "version": 3
   },
   "file_extension": ".py",
   "mimetype": "text/x-python",
   "name": "python",
   "nbconvert_exporter": "python",
   "pygments_lexer": "ipython3",
   "version": "3.11.5"
  }
 },
 "nbformat": 4,
 "nbformat_minor": 2
}
