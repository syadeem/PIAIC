{
 "cells": [
  {
   "cell_type": "code",
   "execution_count": 1,
   "metadata": {},
   "outputs": [],
   "source": [
    "import os\n",
    "import shutil\n"
   ]
  },
  {
   "cell_type": "code",
   "execution_count": 2,
   "metadata": {},
   "outputs": [],
   "source": [
    "original_dataset_dir = 'E:/Data/train/'\n"
   ]
  },
  {
   "cell_type": "code",
   "execution_count": 3,
   "metadata": {},
   "outputs": [],
   "source": [
    "base_dir = 'E:/Data/cats_and_dogs/'\n"
   ]
  },
  {
   "cell_type": "code",
   "execution_count": 4,
   "metadata": {},
   "outputs": [],
   "source": [
    "train_dir = os.path.join(base_dir, 'train')\n",
    "\n",
    "validation_dir = os.path.join(base_dir, 'validation')\n",
    "\n",
    "test_dir = os.path.join(base_dir, 'test')\n"
   ]
  },
  {
   "cell_type": "code",
   "execution_count": null,
   "metadata": {},
   "outputs": [],
   "source": [
    "os.mkdir(train_dir)\n",
    "\n",
    "os.mkdir(validation_dir)\n",
    "\n",
    "os.mkdir(test_dir)"
   ]
  },
  {
   "cell_type": "code",
   "execution_count": 5,
   "metadata": {},
   "outputs": [],
   "source": [
    "train_cats_dir = os.path.join(train_dir, 'cats')\n",
    "\n",
    "train_dogs_dir = os.path.join(train_dir, 'dogs')\n",
    "\n",
    "validation_cats_dir = os.path.join(validation_dir, 'cats')\n",
    "\n",
    "validation_dogs_dir = os.path.join(validation_dir, 'dogs')\n",
    "\n",
    "test_cats_dir = os.path.join(test_dir, 'cats')\n",
    "\n",
    "test_dogs_dir = os.path.join(test_dir, 'dogs')\n"
   ]
  },
  {
   "cell_type": "code",
   "execution_count": 7,
   "metadata": {},
   "outputs": [
    {
     "ename": "FileExistsError",
     "evalue": "[WinError 183] Cannot create a file when that file already exists: 'E:/Data/cats_and_dogs/train\\\\cats'",
     "output_type": "error",
     "traceback": [
      "\u001b[1;31m---------------------------------------------------------------------------\u001b[0m",
      "\u001b[1;31mFileExistsError\u001b[0m                           Traceback (most recent call last)",
      "Cell \u001b[1;32mIn[7], line 1\u001b[0m\n\u001b[1;32m----> 1\u001b[0m os\u001b[39m.\u001b[39;49mmkdir(train_cats_dir)\n\u001b[0;32m      3\u001b[0m os\u001b[39m.\u001b[39mmkdir(train_dogs_dir)\n\u001b[0;32m      5\u001b[0m os\u001b[39m.\u001b[39mmkdir(validation_cats_dir)\n",
      "\u001b[1;31mFileExistsError\u001b[0m: [WinError 183] Cannot create a file when that file already exists: 'E:/Data/cats_and_dogs/train\\\\cats'"
     ]
    }
   ],
   "source": [
    "os.mkdir(train_cats_dir)\n",
    "\n",
    "os.mkdir(train_dogs_dir)\n",
    "\n",
    "os.mkdir(validation_cats_dir)\n",
    "\n",
    "os.mkdir(validation_dogs_dir)\n",
    "\n",
    "os.mkdir(test_cats_dir)\n",
    "\n",
    "os.mkdir(test_dogs_dir)\n"
   ]
  },
  {
   "cell_type": "code",
   "execution_count": 10,
   "metadata": {},
   "outputs": [],
   "source": [
    "fnames = ['cat.{}.jpg'.format(i) for i in range(0, 1000)]\n",
    "for fname in fnames:\n",
    "    src = os.path.join(original_dataset_dir, fname)\n",
    "    dst = os.path.join(train_cats_dir, fname)\n",
    "    shutil.copyfile(src, dst)"
   ]
  },
  {
   "cell_type": "code",
   "execution_count": 9,
   "metadata": {},
   "outputs": [],
   "source": [
    "fnames = ['cat.{}.jpg'.format(i) for i in range(1001, 1500)]\n",
    "for fname in fnames:\n",
    "    src = os.path.join(original_dataset_dir, fname)\n",
    "    dst = os.path.join(validation_cats_dir, fname)\n",
    "    shutil.copyfile(src, dst)\n"
   ]
  },
  {
   "cell_type": "code",
   "execution_count": 10,
   "metadata": {},
   "outputs": [],
   "source": [
    "fnames = ['cat.{}.jpg'.format(i) for i in range(1501, 2000)]\n",
    "for fname in fnames:\n",
    "    src = os.path.join(original_dataset_dir, fname)\n",
    "    dst = os.path.join(test_cats_dir, fname)\n",
    "    shutil.copyfile(src, dst)\n"
   ]
  },
  {
   "cell_type": "code",
   "execution_count": null,
   "metadata": {},
   "outputs": [],
   "source": []
  },
  {
   "cell_type": "code",
   "execution_count": 11,
   "metadata": {},
   "outputs": [],
   "source": [
    "fnames = ['dog.{}.jpg'.format(i) for i in range(0, 1000)]\n",
    "for fname in fnames:\n",
    "    src = os.path.join(original_dataset_dir, fname)\n",
    "    dst = os.path.join(train_dogs_dir, fname)\n",
    "    shutil.copyfile(src, dst)\n"
   ]
  },
  {
   "cell_type": "code",
   "execution_count": 12,
   "metadata": {},
   "outputs": [],
   "source": [
    "fnames = ['dog.{}.jpg'.format(i) for i in range(1000, 1500)]\n",
    "for fname in fnames:\n",
    "    src = os.path.join(original_dataset_dir, fname)\n",
    "    dst = os.path.join(validation_dogs_dir, fname)\n",
    "    shutil.copyfile(src, dst)\n"
   ]
  },
  {
   "cell_type": "code",
   "execution_count": 13,
   "metadata": {},
   "outputs": [],
   "source": [
    "fnames = ['dog.{}.jpg'.format(i) for i in range(1500, 2000)]\n",
    "for fname in fnames:\n",
    "    src = os.path.join(original_dataset_dir, fname)\n",
    "    dst = os.path.join(test_dogs_dir, fname)\n",
    "    shutil.copyfile(src, dst)\n"
   ]
  },
  {
   "cell_type": "code",
   "execution_count": 8,
   "metadata": {},
   "outputs": [
    {
     "name": "stdout",
     "output_type": "stream",
     "text": [
      "Total training cats images :  1000\n",
      "Total training dogs images :  1000\n",
      "\n",
      "Total Validation cats images : 499\n",
      "Total Validation dogs images : 500\n",
      "\n",
      "Total test cats images :  499\n",
      "Total test dogs images :  500\n"
     ]
    }
   ],
   "source": [
    "print('Total training cats images : ', len(os.listdir(train_cats_dir)))\n",
    "print('Total training dogs images : ', len(os.listdir(train_dogs_dir)))\n",
    "print('')\n",
    "\n",
    "print('Total Validation cats images :', len(os.listdir(validation_cats_dir)))\n",
    "print('Total Validation dogs images :', len(os.listdir(validation_dogs_dir)))\n",
    "print('')\n",
    "\n",
    "print('Total test cats images : ', len(os.listdir(test_cats_dir)))\n",
    "print('Total test dogs images : ', len(os.listdir(test_dogs_dir)))\n"
   ]
  },
  {
   "cell_type": "code",
   "execution_count": 9,
   "metadata": {},
   "outputs": [
    {
     "name": "stdout",
     "output_type": "stream",
     "text": [
      "Model: \"sequential\"\n",
      "_________________________________________________________________\n",
      " Layer (type)                Output Shape              Param #   \n",
      "=================================================================\n",
      " conv2d (Conv2D)             (None, 148, 148, 32)      896       \n",
      "                                                                 \n",
      " max_pooling2d (MaxPooling2D  (None, 74, 74, 32)       0         \n",
      " )                                                               \n",
      "                                                                 \n",
      " conv2d_1 (Conv2D)           (None, 72, 72, 64)        18496     \n",
      "                                                                 \n",
      " max_pooling2d_1 (MaxPooling  (None, 36, 36, 64)       0         \n",
      " 2D)                                                             \n",
      "                                                                 \n",
      " conv2d_2 (Conv2D)           (None, 34, 34, 128)       73856     \n",
      "                                                                 \n",
      " max_pooling2d_2 (MaxPooling  (None, 17, 17, 128)      0         \n",
      " 2D)                                                             \n",
      "                                                                 \n",
      " conv2d_3 (Conv2D)           (None, 15, 15, 128)       147584    \n",
      "                                                                 \n",
      " max_pooling2d_3 (MaxPooling  (None, 7, 7, 128)        0         \n",
      " 2D)                                                             \n",
      "                                                                 \n",
      " flatten (Flatten)           (None, 6272)              0         \n",
      "                                                                 \n",
      " dense (Dense)               (None, 512)               3211776   \n",
      "                                                                 \n",
      " dense_1 (Dense)             (None, 1)                 513       \n",
      "                                                                 \n",
      "=================================================================\n",
      "Total params: 3,453,121\n",
      "Trainable params: 3,453,121\n",
      "Non-trainable params: 0\n",
      "_________________________________________________________________\n"
     ]
    }
   ],
   "source": [
    "from keras import layers\n",
    "from keras import models\n",
    "\n",
    "model = models.Sequential()\n",
    "model.add(layers.Conv2D(32, (3, 3), activation='relu', input_shape=(150, 150, 3)))\n",
    "model.add(layers.MaxPooling2D((2, 2)))\n",
    "model.add(layers.Conv2D(64, (3, 3), activation='relu'))\n",
    "model.add(layers.MaxPooling2D((2, 2)))\n",
    "model.add(layers.Conv2D(128, (3, 3), activation='relu'))\n",
    "model.add(layers.MaxPooling2D((2, 2)))\n",
    "model.add(layers.Conv2D(128, (3, 3), activation='relu'))\n",
    "model.add(layers.MaxPooling2D((2, 2)))\n",
    "\n",
    "model.add(layers.Flatten())\n",
    "model.add(layers.Dense(512, activation='relu'))\n",
    "model.add(layers.Dense(1, activation='sigmoid'))\n",
    "\n",
    "model.summary()\n"
   ]
  },
  {
   "cell_type": "code",
   "execution_count": 10,
   "metadata": {},
   "outputs": [],
   "source": [
    "from keras import optimizers\n",
    "\n",
    "model.compile(loss='binary_crossentropy',\n",
    "              optimizer=optimizers.RMSprop(learning_rate=1e-4),\n",
    "              metrics=['acc'])\n"
   ]
  },
  {
   "cell_type": "code",
   "execution_count": 11,
   "metadata": {},
   "outputs": [
    {
     "name": "stdout",
     "output_type": "stream",
     "text": [
      "Found 2000 images belonging to 2 classes.\n",
      "Found 999 images belonging to 2 classes.\n"
     ]
    }
   ],
   "source": [
    "from keras.preprocessing.image import ImageDataGenerator\n",
    "\n",
    "train_datagen = ImageDataGenerator(rescale=1./255)\n",
    "test_datagen = ImageDataGenerator(rescale=1./255)\n",
    "\n",
    "train_generator = train_datagen.flow_from_directory(\n",
    "    train_dir,\n",
    "    target_size=(150, 150),\n",
    "    batch_size=20,\n",
    "    class_mode='binary')\n",
    "\n",
    "validation_generator = test_datagen.flow_from_directory(\n",
    "    validation_dir,\n",
    "    target_size=(150, 150),\n",
    "    batch_size=20,\n",
    "    class_mode='binary')\n"
   ]
  },
  {
   "cell_type": "code",
   "execution_count": 13,
   "metadata": {},
   "outputs": [
    {
     "name": "stdout",
     "output_type": "stream",
     "text": [
      "1\n",
      "2\n",
      "3\n",
      "4\n",
      "5\n"
     ]
    }
   ],
   "source": [
    "# Understanding Python Generator\n",
    "\n",
    "def generator():\n",
    "    i = 0\n",
    "    while True:\n",
    "        i += 1\n",
    "        yield i\n",
    "\n",
    "\n",
    "for item in generator():\n",
    "    print(item)\n",
    "    if item > 4:\n",
    "        break\n"
   ]
  },
  {
   "cell_type": "code",
   "execution_count": 14,
   "metadata": {},
   "outputs": [
    {
     "name": "stdout",
     "output_type": "stream",
     "text": [
      "Data batch shape :  (20, 150, 150, 3)\n",
      "Data labels shape :  (20,)\n"
     ]
    }
   ],
   "source": [
    "for data_batch, labels_batch in train_generator:\n",
    "    print('Data batch shape : ', data_batch.shape)\n",
    "    print('Data labels shape : ', labels_batch.shape)\n",
    "    break\n"
   ]
  },
  {
   "cell_type": "code",
   "execution_count": 15,
   "metadata": {},
   "outputs": [
    {
     "name": "stderr",
     "output_type": "stream",
     "text": [
      "C:\\Users\\Admin\\AppData\\Local\\Temp\\ipykernel_772\\1573792142.py:1: UserWarning: `Model.fit_generator` is deprecated and will be removed in a future version. Please use `Model.fit`, which supports generators.\n",
      "  history = model.fit_generator(\n"
     ]
    },
    {
     "name": "stdout",
     "output_type": "stream",
     "text": [
      "Epoch 1/30\n",
      "100/100 [==============================] - 134s 1s/step - loss: 0.6878 - acc: 0.5495 - val_loss: 0.6683 - val_acc: 0.6266\n",
      "Epoch 2/30\n",
      "100/100 [==============================] - 113s 1s/step - loss: 0.6602 - acc: 0.6050 - val_loss: 0.6461 - val_acc: 0.6076\n",
      "Epoch 3/30\n",
      "100/100 [==============================] - 112s 1s/step - loss: 0.6145 - acc: 0.6645 - val_loss: 0.6256 - val_acc: 0.6346\n",
      "Epoch 4/30\n",
      "100/100 [==============================] - 114s 1s/step - loss: 0.5704 - acc: 0.7000 - val_loss: 0.6066 - val_acc: 0.6667\n",
      "Epoch 5/30\n",
      "100/100 [==============================] - 114s 1s/step - loss: 0.5375 - acc: 0.7340 - val_loss: 0.5773 - val_acc: 0.6807\n",
      "Epoch 6/30\n",
      "100/100 [==============================] - 113s 1s/step - loss: 0.5083 - acc: 0.7420 - val_loss: 0.6420 - val_acc: 0.6416\n",
      "Epoch 7/30\n",
      "100/100 [==============================] - 109s 1s/step - loss: 0.4774 - acc: 0.7710 - val_loss: 0.5596 - val_acc: 0.7097\n",
      "Epoch 8/30\n",
      "100/100 [==============================] - 110s 1s/step - loss: 0.4561 - acc: 0.7815 - val_loss: 0.5638 - val_acc: 0.7027\n",
      "Epoch 9/30\n",
      "100/100 [==============================] - 110s 1s/step - loss: 0.4306 - acc: 0.7950 - val_loss: 0.5768 - val_acc: 0.6987\n",
      "Epoch 10/30\n",
      "100/100 [==============================] - 117s 1s/step - loss: 0.4028 - acc: 0.8220 - val_loss: 0.5711 - val_acc: 0.7167\n",
      "Epoch 11/30\n",
      "100/100 [==============================] - 113s 1s/step - loss: 0.3783 - acc: 0.8360 - val_loss: 0.5995 - val_acc: 0.7147\n",
      "Epoch 12/30\n",
      "100/100 [==============================] - 112s 1s/step - loss: 0.3553 - acc: 0.8435 - val_loss: 0.6763 - val_acc: 0.7007\n",
      "Epoch 13/30\n",
      "100/100 [==============================] - 113s 1s/step - loss: 0.3363 - acc: 0.8530 - val_loss: 0.5586 - val_acc: 0.7367\n",
      "Epoch 14/30\n",
      "100/100 [==============================] - 112s 1s/step - loss: 0.3089 - acc: 0.8745 - val_loss: 0.6414 - val_acc: 0.6897\n",
      "Epoch 15/30\n",
      "100/100 [==============================] - 111s 1s/step - loss: 0.2854 - acc: 0.8820 - val_loss: 0.5899 - val_acc: 0.7147\n",
      "Epoch 16/30\n",
      "100/100 [==============================] - 105s 1s/step - loss: 0.2566 - acc: 0.8940 - val_loss: 0.6293 - val_acc: 0.7177\n",
      "Epoch 17/30\n",
      "100/100 [==============================] - 100s 1s/step - loss: 0.2416 - acc: 0.9010 - val_loss: 0.8844 - val_acc: 0.6987\n",
      "Epoch 18/30\n",
      "100/100 [==============================] - 100s 1s/step - loss: 0.2237 - acc: 0.9185 - val_loss: 0.6709 - val_acc: 0.7177\n",
      "Epoch 19/30\n",
      "100/100 [==============================] - 100s 1s/step - loss: 0.2031 - acc: 0.9265 - val_loss: 0.6754 - val_acc: 0.7237\n",
      "Epoch 20/30\n",
      "100/100 [==============================] - 100s 1s/step - loss: 0.1840 - acc: 0.9285 - val_loss: 0.7329 - val_acc: 0.7157\n",
      "Epoch 21/30\n",
      "100/100 [==============================] - 100s 1s/step - loss: 0.1615 - acc: 0.9385 - val_loss: 0.6971 - val_acc: 0.7177\n",
      "Epoch 22/30\n",
      "100/100 [==============================] - 108s 1s/step - loss: 0.1509 - acc: 0.9460 - val_loss: 0.7071 - val_acc: 0.7357\n",
      "Epoch 23/30\n",
      "100/100 [==============================] - 119s 1s/step - loss: 0.1246 - acc: 0.9605 - val_loss: 0.8093 - val_acc: 0.7237\n",
      "Epoch 24/30\n",
      "100/100 [==============================] - 113s 1s/step - loss: 0.1130 - acc: 0.9650 - val_loss: 0.8290 - val_acc: 0.7127\n",
      "Epoch 25/30\n",
      "100/100 [==============================] - 111s 1s/step - loss: 0.1043 - acc: 0.9640 - val_loss: 0.8570 - val_acc: 0.7097\n",
      "Epoch 26/30\n",
      "100/100 [==============================] - 115s 1s/step - loss: 0.0823 - acc: 0.9770 - val_loss: 0.8871 - val_acc: 0.7237\n",
      "Epoch 27/30\n",
      "100/100 [==============================] - 114s 1s/step - loss: 0.0795 - acc: 0.9735 - val_loss: 0.8882 - val_acc: 0.7247\n",
      "Epoch 28/30\n",
      "100/100 [==============================] - 113s 1s/step - loss: 0.0631 - acc: 0.9815 - val_loss: 0.8920 - val_acc: 0.7207\n",
      "Epoch 29/30\n",
      "100/100 [==============================] - 117s 1s/step - loss: 0.0534 - acc: 0.9845 - val_loss: 1.0579 - val_acc: 0.7107\n",
      "Epoch 30/30\n",
      "100/100 [==============================] - 121s 1s/step - loss: 0.0448 - acc: 0.9910 - val_loss: 1.0647 - val_acc: 0.7167\n"
     ]
    }
   ],
   "source": [
    "history = model.fit_generator(\n",
    "    train_generator,\n",
    "    steps_per_epoch=100,\n",
    "    epochs=30,\n",
    "    validation_data=validation_generator,\n",
    "    validation_steps=50\n",
    ")\n"
   ]
  },
  {
   "cell_type": "code",
   "execution_count": 16,
   "metadata": {},
   "outputs": [],
   "source": [
    "model.save('cats_and_dogs_small_1.h5')\n"
   ]
  },
  {
   "cell_type": "code",
   "execution_count": 17,
   "metadata": {},
   "outputs": [
    {
     "data": {
      "image/png": "[encoded data removed]",
      "text/plain": [
       "<Figure size 640x480 with 1 Axes>"
      ]
     },
     "metadata": {},
     "output_type": "display_data"
    },
    {
     "data": {
      "image/png": "[encoded data removed]",
      "text/plain": [
       "<Figure size 640x480 with 1 Axes>"
      ]
     },
     "metadata": {},
     "output_type": "display_data"
    }
   ],
   "source": [
    "import matplotlib.pyplot as plt\n",
    "\n",
    "acc = history.history['acc']\n",
    "val_acc = history.history['val_acc']\n",
    "loss = history.history['loss']\n",
    "val_loss = history.history['val_loss']\n",
    "epochs = range(1, len(acc) + 1)\n",
    "\n",
    "plt.plot(epochs, acc, 'bo', label='Training acc')\n",
    "plt.plot(epochs, val_acc, 'b', label='Validation acc')\n",
    "plt.title('Training and validation accuracy')\n",
    "plt.legend()\n",
    "plt.figure()\n",
    "plt.plot(epochs, loss, 'bo', label='Training loss')\n",
    "plt.plot(epochs, val_loss, 'b', label='Validation loss')\n",
    "plt.title('Training and validation loss')\n",
    "plt.legend()\n",
    "plt.show()\n"
   ]
  },
  {
   "cell_type": "code",
   "execution_count": 18,
   "metadata": {},
   "outputs": [],
   "source": [
    "datagen = ImageDataGenerator(\n",
    "    rotation_range=40,\n",
    "    width_shift_range=0.2,\n",
    "    height_shift_range=0.2,\n",
    "    shear_range=0.2,\n",
    "    zoom_range=0.2,\n",
    "    horizontal_flip=True,\n",
    "    fill_mode='nearest')\n"
   ]
  },
  {
   "cell_type": "code",
   "execution_count": 21,
   "metadata": {},
   "outputs": [
    {
     "ename": "AttributeError",
     "evalue": "module 'keras.preprocessing.image' has no attribute 'load_img'",
     "output_type": "error",
     "traceback": [
      "\u001b[1;31m---------------------------------------------------------------------------\u001b[0m",
      "\u001b[1;31mAttributeError\u001b[0m                            Traceback (most recent call last)",
      "Cell \u001b[1;32mIn[21], line 7\u001b[0m\n\u001b[0;32m      3\u001b[0m fnames \u001b[39m=\u001b[39m [os\u001b[39m.\u001b[39mpath\u001b[39m.\u001b[39mjoin(train_cats_dir, fname)\n\u001b[0;32m      4\u001b[0m           \u001b[39mfor\u001b[39;00m fname \u001b[39min\u001b[39;00m os\u001b[39m.\u001b[39mlistdir(train_cats_dir)]\n\u001b[0;32m      5\u001b[0m img_path \u001b[39m=\u001b[39m fnames[\u001b[39m3\u001b[39m]\n\u001b[1;32m----> 7\u001b[0m img \u001b[39m=\u001b[39m image\u001b[39m.\u001b[39;49mload_img(img_path, target_size\u001b[39m=\u001b[39m(\u001b[39m150\u001b[39m, \u001b[39m150\u001b[39m))\n\u001b[0;32m      9\u001b[0m x \u001b[39m=\u001b[39m image\u001b[39m.\u001b[39mimg_to_array(img)\n\u001b[0;32m     10\u001b[0m x \u001b[39m=\u001b[39m x\u001b[39m.\u001b[39mreshape((\u001b[39m1\u001b[39m,) \u001b[39m+\u001b[39m x\u001b[39m.\u001b[39mshape)\n",
      "\u001b[1;31mAttributeError\u001b[0m: module 'keras.preprocessing.image' has no attribute 'load_img'"
     ]
    }
   ],
   "source": [
    "from keras.preprocessing import image\n",
    "\n",
    "fnames = [os.path.join(train_cats_dir, fname)\n",
    "          for fname in os.listdir(train_cats_dir)]\n",
    "img_path = fnames[3]\n",
    "\n",
    "img = image.load_img(img_path, target_size=(150, 150))\n",
    "\n",
    "x = image.img_to_array(img)\n",
    "x = x.reshape((1,) + x.shape)\n",
    "\n",
    "i = 0\n",
    "for batch in datagen.flow(x, batch_size=1):\n",
    "    plt.figure(i)\n",
    "    imgplot = plt.imshow(image.array_to_img(batch[0]))\n",
    "    i += 1\n",
    "    if i % 4 == 0:\n",
    "        break\n",
    "\n",
    "plt.show()\n"
   ]
  }
 ],
 "metadata": {
  "kernelspec": {
   "display_name": "Python 3",
   "language": "python",
   "name": "python3"
  },
  "language_info": {
   "codemirror_mode": {
    "name": "ipython",
    "version": 3
   },
   "file_extension": ".py",
   "mimetype": "text/x-python",
   "name": "python",
   "nbconvert_exporter": "python",
   "pygments_lexer": "ipython3",
   "version": "3.11.1"
  },
  "orig_nbformat": 4
 },
 "nbformat": 4,
 "nbformat_minor": 2
}
