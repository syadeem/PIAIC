{
 "cells": [
  {
   "cell_type": "code",
   "execution_count": 1,
   "metadata": {},
   "outputs": [],
   "source": [
    "import cv2 as cv\n",
    "img = cv.imread(\"E:/Data/cats_and_dogs/test/cats/cat.1503.jpg\")\n",
    "    \n",
    "cv.imshow(\"Display window\", img)\n",
    "k = cv.waitKey(0) # Wait for a keystroke in the window"
   ]
  },
  {
   "cell_type": "code",
   "execution_count": 3,
   "metadata": {},
   "outputs": [
    {
     "ename": "error",
     "evalue": "OpenCV(4.8.1) D:\\a\\opencv-python\\opencv-python\\opencv\\modules\\highgui\\src\\window.cpp:971: error: (-215:Assertion failed) size.width>0 && size.height>0 in function 'cv::imshow'\n",
     "output_type": "error",
     "traceback": [
      "\u001b[1;31m---------------------------------------------------------------------------\u001b[0m",
      "\u001b[1;31merror\u001b[0m                                     Traceback (most recent call last)",
      "\u001b[1;32me:\\PIAIC\\4th Quarter Dt_25-11-23\\02.Session_DT_03-12-23\\Practice.ipynb Cell 2\u001b[0m line \u001b[0;36m8\n\u001b[0;32m      <a href='vscode-notebook-cell:/e%3A/PIAIC/4th%20Quarter%20Dt_25-11-23/02.Session_DT_03-12-23/Practice.ipynb#W1sZmlsZQ%3D%3D?line=5'>6</a>\u001b[0m \u001b[39mwhile\u001b[39;00m \u001b[39mTrue\u001b[39;00m:\n\u001b[0;32m      <a href='vscode-notebook-cell:/e%3A/PIAIC/4th%20Quarter%20Dt_25-11-23/02.Session_DT_03-12-23/Practice.ipynb#W1sZmlsZQ%3D%3D?line=6'>7</a>\u001b[0m     ret, img \u001b[39m=\u001b[39m cap\u001b[39m.\u001b[39mread()\n\u001b[1;32m----> <a href='vscode-notebook-cell:/e%3A/PIAIC/4th%20Quarter%20Dt_25-11-23/02.Session_DT_03-12-23/Practice.ipynb#W1sZmlsZQ%3D%3D?line=7'>8</a>\u001b[0m     cv\u001b[39m.\u001b[39;49mimshow(\u001b[39m\"\u001b[39;49m\u001b[39mreal image\u001b[39;49m\u001b[39m\"\u001b[39;49m, img)\n\u001b[0;32m      <a href='vscode-notebook-cell:/e%3A/PIAIC/4th%20Quarter%20Dt_25-11-23/02.Session_DT_03-12-23/Practice.ipynb#W1sZmlsZQ%3D%3D?line=8'>9</a>\u001b[0m     face \u001b[39m=\u001b[39m model\u001b[39m.\u001b[39mdetectMultiScale(img)\n\u001b[0;32m     <a href='vscode-notebook-cell:/e%3A/PIAIC/4th%20Quarter%20Dt_25-11-23/02.Session_DT_03-12-23/Practice.ipynb#W1sZmlsZQ%3D%3D?line=9'>10</a>\u001b[0m     x1 \u001b[39m=\u001b[39m face[\u001b[39m0\u001b[39m][\u001b[39m0\u001b[39m]\n",
      "\u001b[1;31merror\u001b[0m: OpenCV(4.8.1) D:\\a\\opencv-python\\opencv-python\\opencv\\modules\\highgui\\src\\window.cpp:971: error: (-215:Assertion failed) size.width>0 && size.height>0 in function 'cv::imshow'\n"
     ]
    }
   ],
   "source": [
    "import cv2 as cv\n",
    "\n",
    "cap = cv.VideoCapture(0)\n",
    "model = cv.CascadeClassifier('haarcascade_frontalface_default.xml')\n",
    "\n",
    "while True:\n",
    "    ret, img = cap.read()\n",
    "    cv.imshow(\"real image\", img)\n",
    "    face = model.detectMultiScale(img)\n",
    "    x1 = face[0][0]\n",
    "    y1 = face[0][1]\n",
    "    x2 = face[0][2] + x1\n",
    "    y2 = face[0][3] + y1\n",
    "    cimg = img[y1:y2, x1:x2]\n",
    "    blur_img = cv.blur(cimg, (50,50))\n",
    "    img[y1:y2, x1:x2] = blur_img\n",
    "    cv.imshow(\"blured image\", img)\n",
    "    if cv.waitKey(100 == 13):\n",
    "        break\n",
    "    \n",
    "cv.destroyAllWindows()\n",
    "    "
   ]
  }
 ],
 "metadata": {
  "kernelspec": {
   "display_name": "Python 3",
   "language": "python",
   "name": "python3"
  },
  "language_info": {
   "codemirror_mode": {
    "name": "ipython",
    "version": 3
   },
   "file_extension": ".py",
   "mimetype": "text/x-python",
   "name": "python",
   "nbconvert_exporter": "python",
   "pygments_lexer": "ipython3",
   "version": "0.0.0"
  }
 },
 "nbformat": 4,
 "nbformat_minor": 2
}
